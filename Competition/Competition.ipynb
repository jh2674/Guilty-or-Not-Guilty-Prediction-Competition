{
 "cells": [
  {
   "cell_type": "code",
   "execution_count": 4,
   "metadata": {},
   "outputs": [
    {
     "name": "stdout",
     "output_type": "stream",
     "text": [
      "[0. 0. 0. 0. 0. 0. 0. 0. 0. 0. 0. 0. 0. 0.]\n",
      "[['HEARING HELD-GUILTY']\n",
      " ['HEARING HELD-GUILTY REDUCTION']\n",
      " ['HEARING HELD-NOT GUILTY']\n",
      " ['HEARING PENDING']\n",
      " ['ADMIN CLAIM GRANTED']\n",
      " ['APPEAL REVERSED']\n",
      " ['HEARING ADJOURNMENT']\n",
      " ['APPEAL AFFIRMED']\n",
      " ['ADMIN CLAIM DENIED']\n",
      " ['ADMIN REDUCTION']\n",
      " ['HEARING HELD-REINSTATEMENT']\n",
      " ['APPEAL ABANDONED']\n",
      " ['APPEAL MODIFIED']\n",
      " ['HEARING WAIVED']]\n",
      "[2.6408e+04 2.0481e+04 2.3373e+04 5.9050e+03 1.6780e+03 1.5000e+02\n",
      " 6.9900e+02 4.7200e+02 1.7300e+02 5.5300e+02 5.4000e+01 3.9000e+01\n",
      " 1.0000e+00 1.0000e+00]\n"
     ]
    }
   ],
   "source": [
    "import csv\n",
    "import numpy as np\n",
    "import pandas as pd\n",
    "\n",
    "filename = 'train.csv'\n",
    "\n",
    "# Collect [Violation Status]\n",
    "violation_status = []\n",
    "count = np.zeros(14)\n",
    "print(count)\n",
    "with open(filename) as f:\n",
    "    reader1 = csv.reader(f)\n",
    "    head_row = next(reader1)\n",
    "    for row in reader1:\n",
    "        if reader1.line_num == 2:\n",
    "            violation_status.append(row[-1])\n",
    "        flag = []\n",
    "        for i in range(0, len(violation_status)):\n",
    "            if row[-1] == violation_status[i]:\n",
    "                count[i] += 1\n",
    "                flag = 1\n",
    "                break\n",
    "            else:\n",
    "                flag = 0\n",
    "        if flag == 0:\n",
    "            violation_status.append(row[-1])\n",
    "\n",
    "violation_status = np.reshape(violation_status, [len(violation_status), 1])\n",
    "print(violation_status)\n",
    "print(count)"
   ]
  },
  {
   "cell_type": "code",
   "execution_count": null,
   "metadata": {},
   "outputs": [],
   "source": [
    "labels = []\n",
    "with open(filename) as f:\n",
    "    reader2 = csv.reader(f)\n",
    "    head_row = next(reader2)\n",
    "    for row in reader2:\n",
    "        for i in range(0,len(violation_status)):\n",
    "            if row[-1] == violation_status[i]:\n",
    "                labels.append(1)\n",
    "            else:\n",
    "                labels.append(0)\n"
   ]
  },
  {
   "cell_type": "code",
   "execution_count": null,
   "metadata": {},
   "outputs": [],
   "source": [
    "from sklearn.ensemble import RandomForestClassifier"
   ]
  }
 ],
 "metadata": {
  "kernelspec": {
   "display_name": "Python 3",
   "language": "python",
   "name": "python3"
  },
  "language_info": {
   "codemirror_mode": {
    "name": "ipython",
    "version": 3
   },
   "file_extension": ".py",
   "mimetype": "text/x-python",
   "name": "python",
   "nbconvert_exporter": "python",
   "pygments_lexer": "ipython3",
   "version": "3.7.0"
  }
 },
 "nbformat": 4,
 "nbformat_minor": 2
}
